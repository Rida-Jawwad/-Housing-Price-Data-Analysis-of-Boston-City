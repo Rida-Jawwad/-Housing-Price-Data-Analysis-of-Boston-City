{
    "metadata": {
        "kernelspec": {
            "name": "python3",
            "display_name": "Python 3",
            "language": "python"
        },
        "language_info": {
            "name": "python",
            "version": "3.9.4",
            "mimetype": "text/x-python",
            "codemirror_mode": {
                "name": "ipython",
                "version": 3
            },
            "pygments_lexer": "ipython3",
            "nbconvert_exporter": "python",
            "file_extension": ".py"
        }
    },
    "nbformat_minor": 2,
    "nbformat": 4,
    "cells": [
        {
            "cell_type": "markdown",
            "source": [
                "# 3rd Data Science Project\n",
                "\n",
                "In this project, we have housing price data from Boston, Massachusetts, USA. We'll be doing some analysis using Python.\n",
                "\n",
                "Let's start by loading packages.\n",
                "\n",
                "# Load Packages:"
            ],
            "metadata": {
                "azdata_cell_guid": "004455de-bbb0-419c-9a15-eaf5308a8532"
            }
        },
        {
            "cell_type": "code",
            "source": [
                "#Load Packages\r\n",
                "import pandas as pd\r\n",
                "import numpy as np\r\n",
                "import matplotlib.pyplot as plt\r\n",
                "import scipy.stats as ss\r\n",
                "import math\r\n",
                "import statsmodels.api as sm\r\n",
                "import seaborn as sns\r\n",
                "from sklearn.metrics import mean_squared_error"
            ],
            "metadata": {
                "azdata_cell_guid": "f96facab-31bf-4328-bf71-17ab83d88698"
            },
            "outputs": [],
            "execution_count": 3
        },
        {
            "cell_type": "markdown",
            "source": [
                "Next, let's load the data.\n",
                "\n",
                "# Load Data"
            ],
            "metadata": {
                "azdata_cell_guid": "c8511efe-ac3b-482f-b506-a3998d878793"
            }
        },
        {
            "cell_type": "code",
            "source": [
                "# Load Data\r\n",
                "from sklearn.datasets import load_boston\r\n",
                "boston = load_boston()"
            ],
            "metadata": {
                "azdata_cell_guid": "0865e279-84b7-4c47-949b-3ee3f800f52a",
                "tags": []
            },
            "outputs": [],
            "execution_count": 4
        },
        {
            "cell_type": "markdown",
            "source": [
                "Putting the data in panda's dataframe. Inspecting the data and looking at first few rows of data by using **head()** function"
            ],
            "metadata": {
                "azdata_cell_guid": "6afc4b51-d925-4948-8ef9-b04ecc55882e"
            }
        },
        {
            "cell_type": "code",
            "source": [
                "boston_df = pd.DataFrame(boston.data)\r\n",
                "boston_df.columns = boston.feature_names\r\n",
                "print(boston_df.head())"
            ],
            "metadata": {
                "azdata_cell_guid": "0ed2f219-de09-47b2-9521-7d1b07c4544e"
            },
            "outputs": [
                {
                    "name": "stdout",
                    "text": "      CRIM    ZN  INDUS  CHAS    NOX     RM   AGE     DIS  RAD    TAX  \\\n0  0.00632  18.0   2.31   0.0  0.538  6.575  65.2  4.0900  1.0  296.0   \n1  0.02731   0.0   7.07   0.0  0.469  6.421  78.9  4.9671  2.0  242.0   \n2  0.02729   0.0   7.07   0.0  0.469  7.185  61.1  4.9671  2.0  242.0   \n3  0.03237   0.0   2.18   0.0  0.458  6.998  45.8  6.0622  3.0  222.0   \n4  0.06905   0.0   2.18   0.0  0.458  7.147  54.2  6.0622  3.0  222.0   \n\n   PTRATIO       B  LSTAT  \n0     15.3  396.90   4.98  \n1     17.8  396.90   9.14  \n2     17.8  392.83   4.03  \n3     18.7  394.63   2.94  \n4     18.7  396.90   5.33  \n",
                    "output_type": "stream"
                }
            ],
            "execution_count": 5
        },
        {
            "cell_type": "markdown",
            "source": [
                "We see that here MEDV column is missing. We'll get this by boston.target and insert this in the dataframe"
            ],
            "metadata": {
                "azdata_cell_guid": "f01a7e02-6300-45e7-9bd9-803fc158bdfc"
            }
        },
        {
            "cell_type": "code",
            "source": [
                "#Adding MEDV column in df\r\n",
                "boston_df['MEDV'] = boston.target"
            ],
            "metadata": {
                "azdata_cell_guid": "f5b77d7a-cb2a-4c0b-a4d4-088b103df21e",
                "tags": []
            },
            "outputs": [],
            "execution_count": 6
        },
        {
            "cell_type": "markdown",
            "source": [
                "In this project, we'll be inspecting a variable which is **RM(average no. of rooms per dwelling)**. Now its time to compute its mean and standard deviation in our sample.\n",
                "\n",
                "# Mean and Standard Deviation"
            ],
            "metadata": {
                "azdata_cell_guid": "62c0ac9f-2fe4-4f90-adf6-510364916749"
            }
        },
        {
            "cell_type": "code",
            "source": [
                "rooms = boston_df.RM\r\n",
                "\r\n",
                "#mean of rooms\r\n",
                "print(np.mean(rooms))\r\n",
                "\r\n",
                "#std of rooms\r\n",
                "print(np.std(rooms))"
            ],
            "metadata": {
                "azdata_cell_guid": "720a9956-f000-42e3-8a98-ccda6938f8df"
            },
            "outputs": [
                {
                    "name": "stdout",
                    "text": "6.284634387351779\n0.7019225143345689\n",
                    "output_type": "stream"
                }
            ],
            "execution_count": 7
        },
        {
            "cell_type": "markdown",
            "source": [
                "# Histogram for avg no. of rooms\n",
                "\n",
                "We can briefly check the skewness of variable."
            ],
            "metadata": {
                "azdata_cell_guid": "67851598-e4cf-4b51-9674-568686de8d7d"
            }
        },
        {
            "cell_type": "code",
            "source": [
                "plt.figure(figsize=(8, 8))\r\n",
                "plt.hist(rooms)\r\n",
                "plt.title('Average Number of Rooms Histogram')\r\n",
                "plt.xlabel('Rooms')\r\n",
                "plt.ylabel('count')\r\n",
                "plt.show()"
            ],
            "metadata": {
                "azdata_cell_guid": "e9c4d85d-b5c8-4a79-9ca1-edd004c4ca14"
            },
            "outputs": [
                {
                    "data": {
                        "text/plain": "<Figure size 576x576 with 1 Axes>",
                        "image/png": "[encoded data removed]"
                    },
                    "metadata": {
                        "needs_background": "light"
                    },
                    "output_type": "display_data"
                }
            ],
            "execution_count": 8
        },
        {
            "cell_type": "markdown",
            "source": [
                "We can see that it is decently normally distributed. Lets check the range and histogram of MEDV"
            ],
            "metadata": {
                "azdata_cell_guid": "b42bfaae-e1fd-4c1d-ab17-f7028b5b40bd"
            }
        },
        {
            "cell_type": "code",
            "source": [
                "print('Range of MEDV = { ' + str(min(boston_df.MEDV)) + ' ' + str(max(boston_df.MEDV)) + '}')\r\n",
                "\r\n",
                "ax = plt.figure(figsize=(8, 6)).gca() # define axis\r\n",
                "boston_df.MEDV.plot.hist(ax = ax, alpha = 0.6)\r\n",
                "plt.title('Histogram of MEDV')\r\n",
                "plt.xlabel('MEDV')"
            ],
            "metadata": {
                "azdata_cell_guid": "b45038bd-8379-466d-9477-4f2b847d6acd"
            },
            "outputs": [
                {
                    "name": "stdout",
                    "text": "Range of MEDV = { 5.0 50.0}\n",
                    "output_type": "stream"
                },
                {
                    "data": {
                        "text/plain": "<Figure size 576x432 with 1 Axes>",
                        "image/png": "[encoded data removed]"
                    },
                    "metadata": {
                        "needs_background": "light"
                    },
                    "output_type": "display_data"
                },
                {
                    "data": {
                        "text/plain": "Text(0.5, 0, 'MEDV')"
                    },
                    "metadata": {},
                    "execution_count": 9,
                    "output_type": "execute_result"
                }
            ],
            "execution_count": 9
        },
        {
            "cell_type": "markdown",
            "source": [
                "Range of MEDV is from 5 to 50. Now lets see how MEDV(Median value of owner occupied homes) and RM(average no. of rooms per dwelling) correlate.\n",
                "\n",
                "# Correlation\n",
                "\n",
                "We can compute correlations between variables with the Pandas `corr()` method. The upper or lower off-diagonal elements of the 2X2 correlation matrix contain the correlation coefficients."
            ],
            "metadata": {
                "azdata_cell_guid": "02653dfc-06d8-4b14-9b14-9ef2ab04f66f"
            }
        },
        {
            "cell_type": "code",
            "source": [
                "#correlation between rooms and median value\r\n",
                "boston_df[['RM', 'MEDV']].corr().round(3)"
            ],
            "metadata": {
                "azdata_cell_guid": "f974b56c-f214-4238-82a0-9cafd007100e"
            },
            "outputs": [
                {
                    "data": {
                        "text/plain": "         RM   MEDV\nRM    1.000  0.695\nMEDV  0.695  1.000",
                        "text/html": "<div>\n<style scoped>\n    .dataframe tbody tr th:only-of-type {\n        vertical-align: middle;\n    }\n\n    .dataframe tbody tr th {\n        vertical-align: top;\n    }\n\n    .dataframe thead th {\n        text-align: right;\n    }\n</style>\n<table border=\"1\" class=\"dataframe\">\n  <thead>\n    <tr style=\"text-align: right;\">\n      <th></th>\n      <th>RM</th>\n      <th>MEDV</th>\n    </tr>\n  </thead>\n  <tbody>\n    <tr>\n      <th>RM</th>\n      <td>1.000</td>\n      <td>0.695</td>\n    </tr>\n    <tr>\n      <th>MEDV</th>\n      <td>0.695</td>\n      <td>1.000</td>\n    </tr>\n  </tbody>\n</table>\n</div>"
                    },
                    "metadata": {},
                    "execution_count": 10,
                    "output_type": "execute_result"
                }
            ],
            "execution_count": 10
        },
        {
            "cell_type": "markdown",
            "source": [
                "We see that correlation r=0.695. So in this case we have large positive link between RM and MEDV\n",
                "\n",
                "We can also easily visualize this correlation with `ggplot2`:"
            ],
            "metadata": {
                "azdata_cell_guid": "608bbcdb-91ec-418d-90e9-f3dcc9b48140"
            }
        },
        {
            "cell_type": "code",
            "source": [
                "ax = plt.figure(figsize=(8, 8)).gca() # define axis\r\n",
                "boston_df.plot.scatter(x = 'MEDV', y = 'RM', ax = ax, alpha = 0.4)"
            ],
            "metadata": {
                "azdata_cell_guid": "1ae760c4-9af4-45c8-9b94-1f446ce8a909"
            },
            "outputs": [
                {
                    "data": {
                        "text/plain": "<Figure size 576x576 with 1 Axes>",
                        "image/png": "[encoded data removed]"
                    },
                    "metadata": {
                        "needs_background": "light"
                    },
                    "output_type": "display_data"
                },
                {
                    "data": {
                        "text/plain": "<AxesSubplot:xlabel='MEDV', ylabel='RM'>"
                    },
                    "metadata": {},
                    "execution_count": 11,
                    "output_type": "execute_result"
                }
            ],
            "execution_count": 11
        },
        {
            "cell_type": "markdown",
            "source": [
                "If we want to test the correlation for significance, we can use the 'pearsonr' function from the scipy.stats modules. The confidence intervals can be computed using the methods in the functions below."
            ],
            "metadata": {
                "azdata_cell_guid": "0a65f374-7694-4801-aff2-31f65e07f64d"
            }
        },
        {
            "cell_type": "code",
            "source": [
                "def r_z(r): ## transform distribution\r\n",
                "    return math.log((1 + r) / (1 - r)) / 2.0\r\n",
                "\r\n",
                "def z_r(z): ## inverse transform distribution \r\n",
                "    e = math.exp(2 * z)\r\n",
                "    return((e - 1) / (e + 1))\r\n",
                "\r\n",
                "def r_conf_int(r, alpha, n):\r\n",
                "    # Transform r to z space\r\n",
                "    z = r_z(r)\r\n",
                "    # Compute standard error and critcal value in z\r\n",
                "    se = 1.0 / math.sqrt(n - 3)\r\n",
                "    z_crit = ss.norm.ppf(1 - alpha/2)\r\n",
                "\r\n",
                "    ## Compute CIs with transform to r\r\n",
                "    lo = z_r(z - z_crit * se)\r\n",
                "    hi = z_r(z + z_crit * se)\r\n",
                "    return (lo, hi)\r\n",
                "\r\n",
                "def correlation_sig(df, col1, col2):\r\n",
                "    pearson_cor = ss.pearsonr(x = df[col1], y = boston_df[col2])\r\n",
                "    conf_ints = r_conf_int(pearson_cor[0], 0.05, 1000)\r\n",
                "    print('Correlation = %4.3f with CI of %4.3f to %4.3f and p_value %4.3e' \r\n",
                "        % (pearson_cor[0], conf_ints[0], conf_ints[1], pearson_cor[1]))\r\n",
                "    \r\n",
                "correlation_sig(boston_df, 'MEDV', 'RM') "
            ],
            "metadata": {
                "azdata_cell_guid": "729a8c27-abbe-41a9-8ada-97017960e865"
            },
            "outputs": [
                {
                    "name": "stdout",
                    "text": "Correlation = 0.695 with CI of 0.662 to 0.726 and p_value 2.487e-74\n",
                    "output_type": "stream"
                }
            ],
            "execution_count": 12
        },
        {
            "cell_type": "markdown",
            "source": [
                "The confidence interval is fairly narrow around the correlation coefficient.\n",
                "\n",
                "# A Simple Regression\n",
                "\n",
                "There are many Python packages for computing linear regression models in Python. In this case we will use the `OLS` (ordinary least squares) function from the Statsmodels package. `OLS` has two arguments, the vector for the response or dependent variable, and an array containing the one or more predictor or independent variables. Notice that in order to get an intercept term ($b\\_0$) the `add_constant` method must be used to add a constant column to the predictor array. A `summary` method displays a number of statistics from a `response` object."
            ],
            "metadata": {
                "azdata_cell_guid": "0c56b467-4c37-40dc-82e5-f1c059d71d9d"
            }
        },
        {
            "cell_type": "code",
            "source": [
                "## Add a constant term to the array of predictors to get an intercept term\r\n",
                "predictors = sm.add_constant(boston_df.RM, prepend = False)\r\n",
                "\r\n",
                "lm_mod = sm.OLS(boston_df.MEDV, predictors)\r\n",
                "res = lm_mod.fit()\r\n",
                "print(res.summary())"
            ],
            "metadata": {
                "azdata_cell_guid": "bcc4e049-0e93-4197-a4ba-5592050a1893"
            },
            "outputs": [
                {
                    "name": "stdout",
                    "text": "                            OLS Regression Results                            \n==============================================================================\nDep. Variable:                   MEDV   R-squared:                       0.484\nModel:                            OLS   Adj. R-squared:                  0.483\nMethod:                 Least Squares   F-statistic:                     471.8\nDate:                Sat, 19 Jun 2021   Prob (F-statistic):           2.49e-74\nTime:                        14:55:20   Log-Likelihood:                -1673.1\nNo. Observations:                 506   AIC:                             3350.\nDf Residuals:                     504   BIC:                             3359.\nDf Model:                           1                                         \nCovariance Type:            nonrobust                                         \n==============================================================================\n                 coef    std err          t      P>|t|      [0.025      0.975]\n------------------------------------------------------------------------------\nRM             9.1021      0.419     21.722      0.000       8.279       9.925\nconst        -34.6706      2.650    -13.084      0.000     -39.877     -29.465\n==============================================================================\nOmnibus:                      102.585   Durbin-Watson:                   0.684\nProb(Omnibus):                  0.000   Jarque-Bera (JB):              612.449\nSkew:                           0.726   Prob(JB):                    1.02e-133\nKurtosis:                       8.190   Cond. No.                         58.4\n==============================================================================\n\nNotes:\n[1] Standard Errors assume that the covariance matrix of the errors is correctly specified.\n",
                    "output_type": "stream"
                }
            ],
            "execution_count": 13
        },
        {
            "cell_type": "markdown",
            "source": [
                "The model coefficients are displayed in this summary. The intercept is shown as `const`. Thus, our regression equation is as follows:\n",
                "\n",
                "> MEDV = -34.67 + 9.10(RM).\n",
                "\n",
                "We have see n above in Rooms histogram that they range from 4 to 9. What if I had a relatively low <span style=\"font-size: 12px;\">RM&nbsp;</span> score of say, 5? My predicted MEDV score would be ...\n",
                "\n",
                "> MEDV = -34.67 + 9.10(5)\n",
                "\n",
                "As MEDV are in $1000's then the answer would be $10830\n",
                "\n",
                "Now, we are predicting MEDV from RM. How accurate are those predictions? To answer that, we need to discuss residuals.\n",
                "\n",
                "# Residuals\n",
                "\n",
                "Residuals are the difference between the actual value and the predicted value. One powerful method for understanding residuals is to make a scatter plot with the residual values on the vertical axis and the predicted values or _Score_ on the horizontal axis. This type of display is known as a _residual plot_. The code in the cell below computes predicted or score values, computes residuals and creates the residual plot:"
            ],
            "metadata": {
                "azdata_cell_guid": "255bf952-8373-469c-b389-df7271787911"
            }
        },
        {
            "cell_type": "code",
            "source": [
                "## Create a new data frame with the predictor value and the constant\r\n",
                "new_predict = boston_df.RM\r\n",
                "new_predict = sm.add_constant(new_predict, prepend = False)\r\n",
                "## Make prediction with new values\r\n",
                "new_predict['Score'] = res.predict(new_predict)\r\n",
                "## Compute the residuals \r\n",
                "new_predict['Residuals'] = boston_df.MEDV - new_predict.Score\r\n",
                "\r\n",
                "ax = plt.figure(figsize=(8, 8)).gca() # define axis\r\n",
                "new_predict.plot.scatter(x='Score',y='Residuals', ax = ax)\r\n",
                "plt.title('Residuals vs. predicted value')\r\n",
                "plt.ylabel(\"Residual values\")\r\n",
                "plt.xlabel('Predicted values')\r\n",
                "\r\n",
                "num_data = new_predict.shape[0]\r\n",
                "mse = mean_squared_error(new_predict['Score'],new_predict['Residuals'])\r\n",
                "rse = math.sqrt(mse/(num_data-2))\r\n",
                "print('RSE=',rse )"
            ],
            "metadata": {
                "azdata_cell_guid": "09cd3ccf-a95d-4c43-8739-fa5d1bc07f9d"
            },
            "outputs": [
                {
                    "name": "stdout",
                    "text": "RSE= 1.083925586274011\n",
                    "output_type": "stream"
                },
                {
                    "data": {
                        "text/plain": "<Figure size 576x576 with 1 Axes>",
                        "image/png": "[encoded data removed]"
                    },
                    "metadata": {
                        "needs_background": "light"
                    },
                    "output_type": "display_data"
                }
            ],
            "execution_count": 14
        },
        {
            "cell_type": "markdown",
            "source": [
                "We see in our our output, \"Residual standard error: 1.0839\", meaning our <span style=\"font-size: 12px;\">MEDV&nbsp;</span> predictions are \"off\" (on average) by 1.08 points. Given that the scale is basically 5-50 (ish), this seems pretty good. Of course, we are _only_ using <span style=\"font-size: 12px;\">RM&nbsp;</span> to predict scores right now. We could add other predictors and attempt to make this value smaller (i.e., become more accurate in our predictions).\n",
                "\n",
                "Also importantly, one assumption of a _valid_ regression model is that the regressions are _normally distributed_. Of course, in a normal distribution, the data are symmetrical, so the lower values (1Q) should mirror the top values (3Q). We could also simply histogram them:"
            ],
            "metadata": {
                "azdata_cell_guid": "4f55f040-7b0e-4b28-97e6-ede67b48fd29"
            }
        },
        {
            "cell_type": "code",
            "source": [
                "ax = plt.figure(figsize=(8, 6)).gca() # define axis\r\n",
                "new_predict.Residuals.plot.hist(ax = ax)"
            ],
            "metadata": {
                "azdata_cell_guid": "4d1ae462-98bd-4039-8e9b-624f09fba07b"
            },
            "outputs": [
                {
                    "data": {
                        "text/plain": "<Figure size 576x432 with 1 Axes>",
                        "image/png": "[encoded data removed]"
                    },
                    "metadata": {
                        "needs_background": "light"
                    },
                    "output_type": "display_data"
                },
                {
                    "data": {
                        "text/plain": "<AxesSubplot:ylabel='Frequency'>"
                    },
                    "metadata": {},
                    "execution_count": 38,
                    "output_type": "execute_result"
                }
            ],
            "execution_count": 38
        },
        {
            "cell_type": "markdown",
            "source": [
                "Our Residuals' plots shows that the Residuals are slightly skewed to the right. But our peak is approximately at zero. So we can say that we have a valid regression model. Yay!"
            ],
            "metadata": {
                "azdata_cell_guid": "1dd9bcd3-6294-4ec8-bd25-46b6ab486aad"
            }
        },
        {
            "cell_type": "markdown",
            "source": [
                "# Alternative Hypothesis\n",
                "\n",
                "We have a theory that tracts that border the Charles River (CHAS) will have higher median price (MEDV or target) than those that do not have the River\n",
                "\n",
                "# Null Hypothesis\n",
                "\n",
                "So our null hypothesis would be tracts that border the Charles River (CHAS) will not have higher median price (MEDV or target) than those that do not have the River that means that tracts that border the Charles River will have a lower or equal MEDV than those that donot have the River.\n",
                "\n",
                "For this we need to measure means of both i.e. those which have river and those which have not"
            ],
            "metadata": {
                "azdata_cell_guid": "714823ef-0438-4368-a438-93adeea32f3d"
            }
        },
        {
            "cell_type": "code",
            "source": [
                "tracts_with_river = boston_df.loc[boston_df['CHAS'] == 1 , 'MEDV']\r\n",
                "print(np.mean(tracts_with_river))\r\n",
                "\r\n",
                "tracts_with_no_river = boston_df.loc[boston_df['CHAS'] == 0 , 'MEDV']\r\n",
                "print(np.mean(tracts_with_no_river))"
            ],
            "metadata": {
                "azdata_cell_guid": "e8607fee-a2e3-46b1-8ce7-ed627fff6bf1"
            },
            "outputs": [
                {
                    "name": "stdout",
                    "text": "28.439999999999998\n22.093842887473464\n",
                    "output_type": "stream"
                }
            ],
            "execution_count": 16
        },
        {
            "cell_type": "markdown",
            "source": [
                "Mean of MEDV of tracts with river is higher than mean of MEDV of tracts with no river. Thus, our sample disagrees with the null hypothesis.\n",
                "\n",
                "Does this _sample_ gives us enough evidence to reject the null?\n",
                "\n",
                "To answer that question, we calculate a test statistic. we'll use the <span style=\"color: rgb(33, 33, 33); font-family: Consolas, &quot;Courier New&quot;, monospace; font-size: 12px; white-space: pre;\">ttest_ind() </span> function from the scipy.stats library to conduct a two sample t-test.\n",
                "\n",
                "Before we perform the test, we need to decide if we'll assume the two populations have equal variances or not. As a rule of thumb, we can assume the populations have equal variances if the ratio of the larger sample variance to the smaller sample variance is less than 4:1."
            ],
            "metadata": {
                "azdata_cell_guid": "b1678a50-68c3-4e72-8423-5881ac738745"
            }
        },
        {
            "cell_type": "code",
            "source": [
                "#find variance for each group\r\n",
                "print(np.var(tracts_with_river), np.var(tracts_with_no_river))"
            ],
            "metadata": {
                "azdata_cell_guid": "fdf8878b-2dc4-4fbb-8e22-84fbb459020c"
            },
            "outputs": [
                {
                    "name": "stdout",
                    "text": "135.64354285714285 77.8273718564197\n",
                    "output_type": "stream"
                }
            ],
            "execution_count": 17
        },
        {
            "cell_type": "markdown",
            "source": [
                "The ratio of the larger sample variance to the smaller variance is 135.64 / 77.82 = 1.742, which is less than 4. This means we can assume that the population variances are equal. Thus, we can proceed to perform the two sample t-test with equal variances:"
            ],
            "metadata": {
                "azdata_cell_guid": "c750e842-d503-4efc-bcbf-23b462b3fe7c"
            }
        },
        {
            "cell_type": "code",
            "source": [
                "#perform two sample t-test with equal variances\r\n",
                "ss.ttest_ind(a=tracts_with_river, b=tracts_with_no_river, equal_var=True)\r\n",
                "\r\n",
                "# ss.ttest_ind_from_stats(mean1=np.mean(tracts_with_river), std1=np.sqrt(np.var(tracts_with_river)), nobs1=tracts_with_river.size,\r\n",
                "#                      mean2=np.mean(tracts_with_no_river), std2=np.sqrt(np.var(tracts_with_no_river)), nobs2=tracts_with_no_river.size)"
            ],
            "metadata": {
                "azdata_cell_guid": "ca637f50-f560-4fc3-8c70-14b06a4702a4"
            },
            "outputs": [
                {
                    "data": {
                        "text/plain": "Ttest_indResult(statistic=3.996437466090509, pvalue=7.390623170519905e-05)"
                    },
                    "metadata": {},
                    "execution_count": 18,
                    "output_type": "execute_result"
                }
            ],
            "execution_count": 18
        },
        {
            "cell_type": "markdown",
            "source": [
                "Out t statistic value is 3.996. Thus, we can literally read the result as saying \"our effect was 3.99 times greater than you would typically expect by chance.\" That sounds pretty good for our effect and pretty bad for the null hypothesis.\n",
                "\n",
                "Notice that the p-value is displayed in scientific notation. <span style=\"font-size: 12px; white-space: pre-wrap;\">7.390623170519905e-05</span> is scientific notation: **<span style=\"color: rgb(51, 51, 51); font-family: Arial, sans-serif; font-size: 14.4px; text-align: center; background-color: rgb(255, 255, 255);\">7.390623170519905 × 10</span><span style=\"font-size: 10.8px; line-height: 0; position: relative; vertical-align: baseline; top: -0.5em; color: rgb(51, 51, 51); font-family: Arial, sans-serif; text-align: center; background-color: rgb(255, 255, 255);\">-5</span>** and means the same as <span style=\"color: rgb(51, 51, 51); font-family: Arial, sans-serif; font-size: 14.4px; text-align: center; background-color: rgb(255, 255, 255);\"><b>0.00007390623170519905</b></span>. This is clearly less than .05 so **we can reject the null hypothesis** and conclude that tracts that border the Charles River (CHAS) will have higher median price (MEDV or target) than those that do not.\n",
                "\n",
                "# Confidence Interval\n",
                "\n",
                "A confidence interval simply takes your sample result and puts it at the center of a ranged estimate. We know that the sample result has error in it; it's an imperfect estimate of the population. However, we can estimate _how much error_ and can use that to create a range around our sample estimate.  \n",
                "\n",
                "  \n",
                "\n",
                "We have to find out that What is the 90% confidence interval for the target (price) of tracts that border the Charles River?"
            ],
            "metadata": {
                "azdata_cell_guid": "9385ef5f-926f-4550-88d9-a4b718569460"
            }
        },
        {
            "cell_type": "code",
            "source": [
                "print('Range of MEDV (tracts with river) = { ' + str(min(tracts_with_river)) + ' ' + str(max(tracts_with_river)) + '}')\r\n",
                "\r\n",
                "from scipy import stats\r\n",
                "def t_one_sample(samp, mu = 0.0, alpha = 0.1):\r\n",
                "    '''Function for two-sided one-sample t test'''\r\n",
                "    t_stat = stats.ttest_1samp(samp, mu)\r\n",
                "    scale = np.std(samp)\r\n",
                "    loc = np.mean(samp)\r\n",
                "    ci = stats.t.cdf(alpha/2, len(samp), loc=mu, scale=scale)\r\n",
                "    print('Results of one-sample two-sided t test')\r\n",
                "    print('Mean         = %4.3f' % loc)\r\n",
                "    print('t-Statistic  = %4.3f' % t_stat[0])\r\n",
                "    print('p-value      < %4.3e' % t_stat[1])\r\n",
                "    print('On degrees of freedom = %4d' % (len(samp) - 1))\r\n",
                "    print('Confidence Intervals for alpha =' + str(alpha))\r\n",
                "    print('Lower =  %4.3f Upper = %4.3f' % (loc - ci, loc + ci))\r\n",
                "    \r\n",
                "t_one_sample(tracts_with_river)    "
            ],
            "metadata": {
                "azdata_cell_guid": "3c44ba6b-900d-43fd-b2b6-88dda371c796"
            },
            "outputs": [
                {
                    "name": "stdout",
                    "text": "Range of MEDV (tracts with river) = { 13.4 50.0}\nResults of one-sample two-sided t test\nMean         = 28.440\nt-Statistic  = 14.239\np-value      < 6.874e-16\nOn degrees of freedom =   34\nConfidence Intervals for alpha =0.1\nLower =  27.938 Upper = 28.942\n",
                    "output_type": "stream"
                }
            ],
            "execution_count": 20
        },
        {
            "cell_type": "markdown",
            "source": [
                "We observed a sample average attitude of 28.44 (on a scale from 13.4 to 50.0). It was significant, meaning that we could reject the null hypothesis (i.e., sample result a fluke due to chance).\n",
                "\n",
                "However, we can also say on the basis of our sample data with 90% confidence that the population average is somewhere in the range from 27.93 to 28.94.\n",
                "\n",
                "This is **much** more useful than our _p_ \\< .05 finding. Think about it. _p_ \\< .05 tells us that we can reject the null hypothesis. The 90% confidence interval tells you that it's probably between 27.93 to 28.94. It both rejects the null and tells you where the population value likely is. It's rejecting the null and giving you additional information.\n",
                "\n",
                "# Power\n",
                "\n",
                "Here we have to find out the group size (sample size) where effect size is 0.6 and power is 80%. Let's find out:"
            ],
            "metadata": {
                "azdata_cell_guid": "d67fdb93-aef8-40cb-a973-c30f7735ff33"
            }
        },
        {
            "cell_type": "code",
            "source": [
                "from statsmodels.stats.power import tt_ind_solve_power\r\n",
                "tt_ind_solve_power(effect_size=0.6, nobs1 = None, alpha=0.05, power=0.8, ratio=1, alternative='two-sided')"
            ],
            "metadata": {
                "azdata_cell_guid": "b17730b4-3688-4cfb-b43b-2996a96eab7f"
            },
            "outputs": [
                {
                    "data": {
                        "text/plain": "44.58579025908025"
                    },
                    "metadata": {},
                    "execution_count": 21,
                    "output_type": "execute_result"
                }
            ],
            "execution_count": 21
        },
        {
            "cell_type": "markdown",
            "source": [
                "This tells us that our sample size should be 44.58 for each group if we want 80% power and 0.6 effect size.\n",
                "\n",
                "# Experimental Design\n",
                "\n",
                "I am considering myself as a city planner and I want to add some new features (Garage, Play area and Security camers and alarms) to each census tract.\n",
                "\n",
                "I'll be creating a survey to know that if these features in a tract will be beneficial for the people or not. If they'll want it then ofcourse there will be an increase in the pricing values of the houses. And if they'll not then there is no means of constructing these features.\n",
                "\n",
                "Here is the questionnaire link:\n",
                "\n",
                "https://forms.gle/bbHpjcxpgAHvS6FN6  \n",
                "\n",
                "In this questionnaire we have put some questions related to these features that if people want to have them or not.\n",
                "\n",
                "Now, let's assume that not all of the tracts have shown interest in having all these 3 features in their tracts. Some have shown interest in 2 of them. Some tracts have agreed to have 1 feature in their tract.\n",
                "\n",
                "According to their interests, we'll be start creating those features in their tracts.\n",
                "\n",
                "After that for the data, we'll be adding 3 different columns of 3 different features for each tract. And the values will be 0 and 1 (1 is feature is there, 0 otherwise).\n",
                "\n",
                "Let's talk about sample size we'll need for each tract. we will practice using the `tt_ind_solve_power` from the Python `statsmodels.stats.power` package for determining the minimum necessary sample size for each tract.\n",
                "\n",
                "Usually, we start with our dream scenario. Let's ask for 90% power to detect a very small effect size (_d_ = .10). What sample size would be required?"
            ],
            "metadata": {
                "azdata_cell_guid": "19d87c0f-31fa-4076-ae1e-e30f11ed400a"
            }
        },
        {
            "cell_type": "code",
            "source": [
                "tt_ind_solve_power(effect_size=0.1, nobs1 = None, alpha=0.05, power=0.9, ratio=1, alternative='two-sided')"
            ],
            "metadata": {
                "azdata_cell_guid": "837060c5-e9bd-4db5-a793-0540501d7548"
            },
            "outputs": [
                {
                    "data": {
                        "text/plain": "2102.444766800448"
                    },
                    "metadata": {},
                    "execution_count": 32,
                    "output_type": "execute_result"
                }
            ],
            "execution_count": 32
        },
        {
            "cell_type": "markdown",
            "source": [
                "We know that the census tract has approximately 600 to 1500 housing units. And this sample size is larger. So considering 600 housing units, let's try with 90% power and 0.2 effect size."
            ],
            "metadata": {
                "azdata_cell_guid": "ab6cdea7-acce-47f3-986c-9debb39b456b"
            }
        },
        {
            "cell_type": "code",
            "source": [
                "tt_ind_solve_power(effect_size=0.2, nobs1 = None, alpha=0.05, power=0.9, ratio=1, alternative='two-sided')"
            ],
            "metadata": {
                "azdata_cell_guid": "f207e77d-cc84-4fe4-8fbc-7db20af07e10"
            },
            "outputs": [
                {
                    "data": {
                        "text/plain": "526.3332032147733"
                    },
                    "metadata": {},
                    "execution_count": 37,
                    "output_type": "execute_result"
                }
            ],
            "execution_count": 37
        },
        {
            "cell_type": "markdown",
            "source": [
                "This looks good. I think that we can have our survey answered from 526 housing units in each tract\n",
                "\n",
                "# Conclusion\n",
                "\n",
                "We have done analysis on RM (our chose variable) and we have aslo performed a regression, predicting MEDV from RM.\n",
                "\n",
                "Also, we have rejected the null hypothesis which states that the tracts that border the Charles River (CHAS) will not have higher median price (MEDV or target) than those that do not have the River\n",
                "\n",
                "And we have also included an explanation of the experimental design for the new features along with the plan of analysis."
            ],
            "metadata": {
                "azdata_cell_guid": "590d8f90-146c-492a-b114-83a89c19b14d"
            }
        }
    ]
}